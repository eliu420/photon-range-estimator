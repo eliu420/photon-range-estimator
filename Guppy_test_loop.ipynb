{
 "cells": [
  {
   "cell_type": "code",
   "execution_count": null,
   "metadata": {},
   "outputs": [],
   "source": [
    "\"\"\"Import and Format notebook to work with CSV Guppy data\"\"\"\n",
    "import pandas as pd\n",
    "import time\n",
    "\n",
    "df = pd.read_csv(\"L230110.CSV\")\n",
    "columns = [\n",
    "        'Date', 'Time', 'Lat', 'Lon', 'Speed m/s', 'Distance km',\n",
    "        'RPM 1', 'Motor Load 1 %%', 'Motor Torque 1 %%', 'Motor Temp 1 C',\n",
    "        # 'RPM 2', 'Motor Load 2 %%', 'Motor Torque 2 %%', 'Motor Temp 2 C',\n",
    "        # 'RPM 3', 'Motor Load 3 %%', 'Motor Torque 3 %%', 'Motor Temp 3 C',\n",
    "        # 'RPM 4', 'Motor Load 4 %%', 'Motor Torque 4 %%', 'Motor Temp 4 C',\n",
    "        # 'Depth m',\n",
    "        # 'Temp Source 1', 'Temp 1 C',\n",
    "        # 'Temp Source 2', 'Temp 2 C',\n",
    "        # 'Temp Source 3', 'Temp 3 C',\n",
    "        # 'Temp Source 4', 'Temp 4 C',\n",
    "        'Pack Current 1 A', 'Pack Voltage 1 V', 'Pack Temp 1 C', 'SOC 1 %%',\n",
    "        # 'Pack Current 2 A', 'Pack Voltage 2 V', 'Pack Temp 2 C', 'SOC 2 %%',\n",
    "        # 'Pack Current 3 A', 'Pack Voltage 3 V', 'Pack Temp 3 C', 'SOC 3 %%',\n",
    "        # 'Pack Current 4 A', 'Pack Voltage 4 V', 'Pack Temp 4 C', 'SOC 4 %%'\n",
    "        ]\n",
    "df = df[columns]\n",
    "df.head()"
   ]
  },
  {
   "cell_type": "code",
   "execution_count": null,
   "metadata": {},
   "outputs": [],
   "source": [
    "\"\"\"Clean non-numeric data rows by trying to convert to a \n",
    "float value and dropping the row if it is unable to.\"\"\"\n",
    "\n",
    "cnt=0\n",
    "for row in df['Speed m/s']: # Arbitrary column that has numbers\n",
    "    try:\n",
    "        float(row)\n",
    "        pass\n",
    "    except ValueError:\n",
    "        df.drop(cnt, inplace=True)\n",
    "    cnt+=1\n",
    "\n",
    "df.reset_index(inplace=True)"
   ]
  },
  {
   "cell_type": "code",
   "execution_count": null,
   "metadata": {},
   "outputs": [],
   "source": [
    "\"\"\"Test Loop:\n",
    "Loop through CSV rows and update estimated mileage on each iteration.\n",
    "This version is based on a known avg consumption rate.\n",
    "\n",
    "For some reason it seems like this loops through twice because the values jump back up,\n",
    "but initially it works. Haven't debugged it yet.\"\"\"\n",
    "\n",
    "df['SOC 1 %%'] = df['SOC 1 %%'].astype(int)     # Change batt charge to a integer\n",
    "avg_consumption_rate = 6                        #kWh/km [Random Guess]\n",
    "\n",
    "for i in range(len(df)):\n",
    "    batt = df['SOC 1 %%'].iloc[i]*63/100        # Change into kWh based on 63 kWh full charge\n",
    "    dist = batt/avg_consumption_rate            # In km. Will eventually need to be nm\n",
    "    print('Battery Remaining = %d kWh | Distance Remaining = %d km' % (batt, dist), end='\\r')\n",
    "    time.sleep(.01)"
   ]
  }
 ],
 "metadata": {
  "kernelspec": {
   "display_name": "base",
   "language": "python",
   "name": "python3"
  },
  "language_info": {
   "codemirror_mode": {
    "name": "ipython",
    "version": 3
   },
   "file_extension": ".py",
   "mimetype": "text/x-python",
   "name": "python",
   "nbconvert_exporter": "python",
   "pygments_lexer": "ipython3",
   "version": "3.9.12"
  },
  "vscode": {
   "interpreter": {
    "hash": "69627ec5890e0b54de2feb78db75d268619931803e79abb516238e9970b9c367"
   }
  }
 },
 "nbformat": 4,
 "nbformat_minor": 2
}
