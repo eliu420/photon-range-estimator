{
 "cells": [
  {
   "cell_type": "code",
   "execution_count": 193,
   "metadata": {},
   "outputs": [],
   "source": [
    "\"\"\"Import CSV Guppy data\"\"\"\n",
    "import pandas as pd\n",
    "import time\n",
    "import numpy as np\n",
    "#matplotlib ipympl\n",
    "import matplotlib.pyplot as plt\n",
    "#matplotlib inline\n",
    "from scipy import interpolate"
   ]
  },
  {
   "cell_type": "code",
   "execution_count": 194,
   "metadata": {},
   "outputs": [
    {
     "data": {
      "text/html": [
       "<div>\n",
       "<style scoped>\n",
       "    .dataframe tbody tr th:only-of-type {\n",
       "        vertical-align: middle;\n",
       "    }\n",
       "\n",
       "    .dataframe tbody tr th {\n",
       "        vertical-align: top;\n",
       "    }\n",
       "\n",
       "    .dataframe thead th {\n",
       "        text-align: right;\n",
       "    }\n",
       "</style>\n",
       "<table border=\"1\" class=\"dataframe\">\n",
       "  <thead>\n",
       "    <tr style=\"text-align: right;\">\n",
       "      <th></th>\n",
       "      <th>Date</th>\n",
       "      <th>Time</th>\n",
       "      <th>Lat</th>\n",
       "      <th>Lon</th>\n",
       "      <th>Speed m/s</th>\n",
       "      <th>Distance km</th>\n",
       "      <th>RPM 1</th>\n",
       "      <th>Motor Load 1 %%</th>\n",
       "      <th>Motor Torque 1 %%</th>\n",
       "      <th>Motor Temp 1 C</th>\n",
       "      <th>Pack Current 1 A</th>\n",
       "      <th>Pack Voltage 1 V</th>\n",
       "      <th>Pack Temp 1 C</th>\n",
       "      <th>SOC 1 %%</th>\n",
       "    </tr>\n",
       "  </thead>\n",
       "  <tbody>\n",
       "    <tr>\n",
       "      <th>0</th>\n",
       "      <td>23-01-10</td>\n",
       "      <td>0.0</td>\n",
       "      <td>45.560810</td>\n",
       "      <td>-122.720818</td>\n",
       "      <td>0.0</td>\n",
       "      <td>12.451462</td>\n",
       "      <td>0</td>\n",
       "      <td>0</td>\n",
       "      <td>0</td>\n",
       "      <td>0.0</td>\n",
       "      <td>-4.7</td>\n",
       "      <td>32.110001</td>\n",
       "      <td>297.0</td>\n",
       "      <td>48</td>\n",
       "    </tr>\n",
       "    <tr>\n",
       "      <th>1</th>\n",
       "      <td>23-01-10</td>\n",
       "      <td>1.0</td>\n",
       "      <td>45.560837</td>\n",
       "      <td>-122.720711</td>\n",
       "      <td>0.0</td>\n",
       "      <td>12.451462</td>\n",
       "      <td>0</td>\n",
       "      <td>0</td>\n",
       "      <td>0</td>\n",
       "      <td>0.0</td>\n",
       "      <td>-4.7</td>\n",
       "      <td>32.119999</td>\n",
       "      <td>297.0</td>\n",
       "      <td>48</td>\n",
       "    </tr>\n",
       "    <tr>\n",
       "      <th>2</th>\n",
       "      <td>23-01-10</td>\n",
       "      <td>2.0</td>\n",
       "      <td>45.560837</td>\n",
       "      <td>-122.720711</td>\n",
       "      <td>0.0</td>\n",
       "      <td>12.451462</td>\n",
       "      <td>0</td>\n",
       "      <td>0</td>\n",
       "      <td>0</td>\n",
       "      <td>0.0</td>\n",
       "      <td>-4.7</td>\n",
       "      <td>32.110001</td>\n",
       "      <td>297.0</td>\n",
       "      <td>48</td>\n",
       "    </tr>\n",
       "    <tr>\n",
       "      <th>3</th>\n",
       "      <td>23-01-10</td>\n",
       "      <td>3.0</td>\n",
       "      <td>45.560833</td>\n",
       "      <td>-122.720711</td>\n",
       "      <td>0.0</td>\n",
       "      <td>12.451462</td>\n",
       "      <td>0</td>\n",
       "      <td>0</td>\n",
       "      <td>0</td>\n",
       "      <td>0.0</td>\n",
       "      <td>-4.7</td>\n",
       "      <td>32.119999</td>\n",
       "      <td>297.0</td>\n",
       "      <td>48</td>\n",
       "    </tr>\n",
       "    <tr>\n",
       "      <th>4</th>\n",
       "      <td>23-01-10</td>\n",
       "      <td>4.0</td>\n",
       "      <td>45.560837</td>\n",
       "      <td>-122.720711</td>\n",
       "      <td>0.0</td>\n",
       "      <td>12.451462</td>\n",
       "      <td>0</td>\n",
       "      <td>0</td>\n",
       "      <td>0</td>\n",
       "      <td>0.0</td>\n",
       "      <td>-4.7</td>\n",
       "      <td>32.110001</td>\n",
       "      <td>297.0</td>\n",
       "      <td>48</td>\n",
       "    </tr>\n",
       "  </tbody>\n",
       "</table>\n",
       "</div>"
      ],
      "text/plain": [
       "       Date  Time        Lat         Lon  Speed m/s  Distance km  RPM 1  \\\n",
       "0  23-01-10   0.0  45.560810 -122.720818        0.0    12.451462      0   \n",
       "1  23-01-10   1.0  45.560837 -122.720711        0.0    12.451462      0   \n",
       "2  23-01-10   2.0  45.560837 -122.720711        0.0    12.451462      0   \n",
       "3  23-01-10   3.0  45.560833 -122.720711        0.0    12.451462      0   \n",
       "4  23-01-10   4.0  45.560837 -122.720711        0.0    12.451462      0   \n",
       "\n",
       "   Motor Load 1 %%  Motor Torque 1 %%  Motor Temp 1 C  Pack Current 1 A  \\\n",
       "0                0                  0             0.0              -4.7   \n",
       "1                0                  0             0.0              -4.7   \n",
       "2                0                  0             0.0              -4.7   \n",
       "3                0                  0             0.0              -4.7   \n",
       "4                0                  0             0.0              -4.7   \n",
       "\n",
       "   Pack Voltage 1 V  Pack Temp 1 C  SOC 1 %%  \n",
       "0         32.110001          297.0        48  \n",
       "1         32.119999          297.0        48  \n",
       "2         32.110001          297.0        48  \n",
       "3         32.119999          297.0        48  \n",
       "4         32.110001          297.0        48  "
      ]
     },
     "execution_count": 194,
     "metadata": {},
     "output_type": "execute_result"
    }
   ],
   "source": [
    "\"\"\"Format notebook to work with CSV Guppy data\"\"\"\n",
    "df = pd.read_csv(\"L230110.CSV\", nrows=1313) # only looking at rows for first run (up to row 1347). Also removed rows of zeros at end.\n",
    "columns = [\n",
    "        'Date', 'Time', 'Lat', 'Lon', 'Speed m/s', 'Distance km',\n",
    "        'RPM 1', 'Motor Load 1 %%', 'Motor Torque 1 %%', 'Motor Temp 1 C',\n",
    "        # 'RPM 2', 'Motor Load 2 %%', 'Motor Torque 2 %%', 'Motor Temp 2 C',\n",
    "        # 'RPM 3', 'Motor Load 3 %%', 'Motor Torque 3 %%', 'Motor Temp 3 C',\n",
    "        # 'RPM 4', 'Motor Load 4 %%', 'Motor Torque 4 %%', 'Motor Temp 4 C',\n",
    "        # 'Depth m',\n",
    "        # 'Temp Source 1', 'Temp 1 C',\n",
    "        # 'Temp Source 2', 'Temp 2 C',\n",
    "        # 'Temp Source 3', 'Temp 3 C',\n",
    "        # 'Temp Source 4', 'Temp 4 C',\n",
    "        'Pack Current 1 A', 'Pack Voltage 1 V', 'Pack Temp 1 C', 'SOC 1 %%',\n",
    "        # 'Pack Current 2 A', 'Pack Voltage 2 V', 'Pack Temp 2 C', 'SOC 2 %%',\n",
    "        # 'Pack Current 3 A', 'Pack Voltage 3 V', 'Pack Temp 3 C', 'SOC 3 %%',\n",
    "        # 'Pack Current 4 A', 'Pack Voltage 4 V', 'Pack Temp 4 C', 'SOC 4 %%'\n",
    "        ]\n",
    "\n",
    "df = df[columns]\n",
    "df.Time = (pd.to_datetime(df['Time'].str.strip(), format = '%H:%M:%S'))\n",
    "adjusted_time = np.array([0])\n",
    "x = 0\n",
    "for i in range(len(df.Time)):\n",
    "    if i+1 >= len(df.Time):\n",
    "        break\n",
    "    x += (df.Time[i+1] - df.Time[i]).total_seconds()\n",
    "    adjusted_time = np.append(adjusted_time,x)\n",
    "df['Time'] = adjusted_time.astype(float)\n",
    "df.head()"
   ]
  },
  {
   "cell_type": "code",
   "execution_count": 195,
   "metadata": {},
   "outputs": [],
   "source": [
    "\"\"\"Clean non-numeric data rows by trying to convert to a \n",
    "float value and dropping the row if it is unable to.\"\"\"\n",
    "\n",
    "cnt=0\n",
    "for row in df['Speed m/s']: # Arbitrary column that has numbers\n",
    "    try:\n",
    "        float(row)\n",
    "        pass\n",
    "    except ValueError:\n",
    "        df.drop(cnt, inplace=True)\n",
    "    cnt+=1\n",
    "\n",
    "df.reset_index(inplace=True)"
   ]
  },
  {
   "cell_type": "code",
   "execution_count": 196,
   "metadata": {},
   "outputs": [
    {
     "name": "stdout",
     "output_type": "stream",
     "text": [
      "Run Stats: 1.8 nm traveled | 7.26 kWh spent | 4.03 kWh/nm\n"
     ]
    }
   ],
   "source": [
    "\"\"\"Initial Consumption Calculation\"\"\"\n",
    "\"\"\"Calculate average kWh/km for given run\"\"\"\n",
    "import datetime\n",
    "\n",
    "df['SOC 1 %%'] = df['SOC 1 %%'].astype(int)     # Change batt charge to a integer\n",
    "df['Distance km'] = df['Distance km'].astype(float)\n",
    "# df['Time'] = df['Time'].astype(datetime.time)\n",
    "\n",
    "batt_cap = 22   #kWh\n",
    "batt_health = 1 # %\n",
    "batt_full = batt_cap*batt_health\n",
    "\n",
    "batt_consumed = (df['SOC 1 %%'].iloc[0] - df['SOC 1 %%'].iloc[-1])*batt_full/100   # kWh\n",
    "dist_traveled = (df['Distance km'].iloc[-1] - df['Distance km'].iloc[0])*0.539957  # nm [1km = 0.539957nm]\n",
    "# time_spent = df['Time'].iloc[-1] - df['Time'].iloc[0]\n",
    "avg_consumption_rate = batt_consumed/dist_traveled\n",
    "print('Run Stats:', round(dist_traveled,2), 'nm traveled |', batt_consumed, 'kWh spent |', round(avg_consumption_rate,2), 'kWh/nm')"
   ]
  },
  {
   "cell_type": "code",
   "execution_count": 197,
   "metadata": {},
   "outputs": [
    {
     "name": "stdout",
     "output_type": "stream",
     "text": [
      "Battery Remaining = 3.3 kWh | Distance Remaining = 0.8 nm   \r"
     ]
    }
   ],
   "source": [
    "\"\"\"Test Loop:\n",
    "Loop through CSV rows and update estimated mileage on each iteration.\n",
    "This version is based on a known avg consumption rate.\n",
    "\n",
    "For some reason it seems like this loops through twice because the values jump back up,\n",
    "but initially it works. Haven't debugged it yet.\"\"\"\n",
    "\n",
    "for i in range(len(df)):\n",
    "    batt = df['SOC 1 %%'].iloc[i]*batt_cap/100        # Change into kWh based on 63 kWh full charge\n",
    "    dist = batt/avg_consumption_rate            # In nm\n",
    "    print('Battery Remaining = %.1f kWh | Distance Remaining = %.1f nm' % (batt, dist), end=' \\r')\n",
    "    time.sleep(.01)"
   ]
  },
  {
   "cell_type": "code",
   "execution_count": 198,
   "metadata": {},
   "outputs": [
    {
     "data": {
      "text/plain": [
       "Text(0, 0.5, 'Distance Remaining (nm)')"
      ]
     },
     "execution_count": 198,
     "metadata": {},
     "output_type": "execute_result"
    },
    {
     "data": {
      "image/png": "[encoded data removed]",
      "text/plain": [
       "<Figure size 1200x300 with 1 Axes>"
      ]
     },
     "metadata": {},
     "output_type": "display_data"
    }
   ],
   "source": [
    "\"\"\"Test Loop for Plot: An attempt to plot time versus distance remaining, \n",
    "   calculated every 10 seconds in order to smooth final curve.\n",
    "   Currently not yet working, running into error of 'Output exceeds the \n",
    "   size limit. Open the full output data in a text editor'. I am inclined \n",
    "   to believe that matplotlib has trouble processing datetime format of the \n",
    "   'Time' column. \n",
    "\"\"\"\n",
    "distanceList = [] \n",
    "time1 = []\n",
    "count = 0\n",
    "for i in range(len(df)):\n",
    "    batt = df['SOC 1 %%'].iloc[i]*63/100        # Change into kWh based on 63 kWh full charge\n",
    "    dist = batt/avg_consumption_rate            # In km. Will eventually need to be nm\n",
    "    count += 1\n",
    "    if count % 12 == 0:\n",
    "        time = df['Time'].iloc[i]    #fixed it here, \"Only append the current time value\"\n",
    "        time1.append(time)\n",
    "        distanceList.append(dist)\n",
    "\n",
    "plt.figure(figsize = (12,3))\n",
    "plt.suptitle('Distance Remaining in Nautical Miles Over the Course of Trip') \n",
    "plt.subplot(1,2,1)\n",
    "plt.plot(time1, distanceList)\n",
    "xticks = np.array(range(0,len(time1),interval))\n",
    "#plt.xticks(xticks,labels = np.round((((xticks*interval)/60))))\n",
    "plt.xlabel(\"Time (seconds)\")\n",
    "plt.ylabel('Distance Remaining (nm)')\n",
    "\n",
    "#Smooth line version of graph \n",
    "#plt.subplot(1,2,2)\n",
    "#x = np.array(range(0,int(np.max(time1))))\n",
    "#x_smooth = xticks\n",
    "#bspline = interpolate.make_interp_spline(x, distanceList)\n",
    "#y_smooth = bspline(x)\n",
    "\n",
    "#plt.plot(x_smooth,y_smooth)\n",
    "#xlabel = np.array(range(0,int(np.max(time1)),200))\n",
    "#plt.xticks(xlabel,labels = xlabel)\n",
    "#plt.xlabel(\"Time (mins)\")\n",
    "#plt.ylabel('Distance Remaining (nm)')\n",
    "#plt.subplots_adjust(wspace = 0.3)"
   ]
  },
  {
   "cell_type": "code",
   "execution_count": null,
   "metadata": {},
   "outputs": [],
   "source": []
  }
 ],
 "metadata": {
  "kernelspec": {
   "display_name": "Python 3 (ipykernel)",
   "language": "python",
   "name": "python3"
  },
  "language_info": {
   "codemirror_mode": {
    "name": "ipython",
    "version": 3
   },
   "file_extension": ".py",
   "mimetype": "text/x-python",
   "name": "python",
   "nbconvert_exporter": "python",
   "pygments_lexer": "ipython3",
   "version": "3.9.13"
  },
  "vscode": {
   "interpreter": {
    "hash": "4bbc9db06fbf98136a621b4c71f5903a396382beeefc6c473f91acdc176424a7"
   }
  }
 },
 "nbformat": 4,
 "nbformat_minor": 2
}
