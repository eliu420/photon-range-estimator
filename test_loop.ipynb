{
 "cells": [
  {
   "attachments": {},
   "cell_type": "markdown",
   "metadata": {},
   "source": [
    "# Testing Notebook\n",
    "\n",
    "### Imports"
   ]
  },
  {
   "cell_type": "code",
   "execution_count": null,
   "metadata": {},
   "outputs": [],
   "source": [
    "import matplotlib.pyplot as plt\n",
    "import math\n",
    "import numpy as np\n",
    "import pandas as pd\n",
    "from scipy import interpolate\n",
    "import time\n",
    "from data_files import file_dict, runs_dict\n",
    "from testing_class import testing\n",
    "from range_estimator import range_est"
   ]
  },
  {
   "attachments": {},
   "cell_type": "markdown",
   "metadata": {},
   "source": [
    "### File Summary"
   ]
  },
  {
   "cell_type": "code",
   "execution_count": null,
   "metadata": {},
   "outputs": [],
   "source": [
    "\n",
    "batt_cap = 58   # kWh; useable energy\n",
    "\n",
    "file_summary = pd.DataFrame({\n",
    "    'Run_ID': [],\n",
    "    'Time (min)': [],\n",
    "    'Max Speed (kts)': [],\n",
    "    'Avg Speed (kts)': [],\n",
    "    'Energy Expended (kWh)': [],\n",
    "    'Distance Traveled (nm)': [],\n",
    "    'Average Consumption (kWh/nm)': []\n",
    "})\n",
    "\n",
    "for run in runs_dict.keys():\n",
    "    runs_dict[run]['Pack Voltage 1 V'] = runs_dict[run]['Pack Voltage 1 V']*10\n",
    "    \n",
    "    time_elapsed = runs_dict[run]['Time'].iloc[-1] - runs_dict[run]['Time'].iloc[0]\n",
    "    speed_max = runs_dict[run]['Speed m/s'].max()*1.94384\n",
    "    speed_avg = runs_dict[run]['Speed m/s'].mean()*1.94384\n",
    "    battery_expended = runs_dict[run]['SOC 1 %'].iloc[0] - runs_dict[run]['SOC 1 %'].iloc[-1]\n",
    "    energy_expended = battery_expended*batt_cap/100\n",
    "    distance_traveled = (runs_dict[run]['Distance km'].iloc[-1] - runs_dict[run]['Distance km'].iloc[0])*0.539957\n",
    "    avg_consumption = (energy_expended)/distance_traveled\n",
    "\n",
    "    file_summary.loc[len(file_summary.index)] = [\n",
    "        run, \n",
    "        round(time_elapsed.seconds/60, 1),\n",
    "        round(speed_max, 1),\n",
    "        round(speed_avg, 1),\n",
    "        round(energy_expended, 2),\n",
    "        round(distance_traveled, 2),\n",
    "        round(avg_consumption, 1)\n",
    "        ]\n",
    "\n",
    "file_summary"
   ]
  },
  {
   "attachments": {},
   "cell_type": "markdown",
   "metadata": {},
   "source": [
    "### Individual Run Testing"
   ]
  },
  {
   "cell_type": "code",
   "execution_count": null,
   "metadata": {},
   "outputs": [],
   "source": [
    "\"\"\"Import Data from file manager\"\"\"\n",
    "df = testing().add_variables(runs_dict['Run 29'])   # Chose Run 29 because of interesting energy and distance values\n",
    "\n",
    "'''Create algorithm instance'''\n",
    "range_estimator = range_est(58, 2.5, 0.3, 0,0,0)\n",
    "range_list = []\n",
    "\n",
    "\"\"\"Test Loop\"\"\"\n",
    "for i in range(len(df)):\n",
    "    dataStream = testing().parse_csv(df.iloc[i])\n",
    "    range_estimator.overall_avg(dataStream)\n",
    "    range_list.append(range_estimator.range_remaining)\n",
    "\n",
    "    print('Battery Remaining = %.1f percent | Range Remaining = %.1f nm' \n",
    "          % (dataStream['soc'], range_estimator.range_remaining), end=' \\r')\n",
    "    # time.sleep(.005)\n",
    "\n",
    "duration = (df['Time'].iloc[-1] - df['Time'].iloc[0]).seconds/60\n",
    "x = np.linspace(0, duration, len(range_list))\n",
    "y = range_list\n",
    "\n",
    "x_smooth = np.linspace(np.min(x), np.max(x), num = 20) #Num represents number of points, play around to affect smoothness\n",
    "bspline = interpolate.make_interp_spline(x,y)\n",
    "y_smooth = bspline(x_smooth)\n",
    "\n",
    "fig, ax1 = plt.subplots(figsize=(12,5))\n",
    "\n",
    "ax1.plot(x_smooth, y_smooth, color='red')\n",
    "ax1.set_title('Range Remaining over Time')\n",
    "ax1.set_xlabel('Time (mins)')\n",
    "ax1.set_ylabel('Range Remaining (nm)')\n",
    "ax1.legend(['Range Prediction'])\n",
    "ax1.grid()\n",
    "\n",
    "# ax2 = ax1.twinx()\n",
    "# ax2.plot(x, df['tripDistance'], color='green')\n",
    "# ax2.set_ylabel('Distance Traveled (nm)')\n",
    "# ax2.legend(['Distance Traveled'], loc='upper center')\n",
    "# ax2.invert_yaxis()"
   ]
  },
  {
   "attachments": {},
   "cell_type": "markdown",
   "metadata": {},
   "source": [
    "### Accuracy"
   ]
  },
  {
   "cell_type": "code",
   "execution_count": null,
   "metadata": {},
   "outputs": [],
   "source": [
    "run_error, errors = testing().test_accuracy(df, range_list, interval=300)\n",
    "\n",
    "x = range(len(errors))\n",
    "y = errors\n",
    "\n",
    "x_smooth = np.linspace(np.min(x),np.max(x),num = 50) #Num represents number of points, play around to affect smoothness\n",
    "bspline = interpolate.make_interp_spline(x,y)\n",
    "y_smooth = bspline(x_smooth)\n",
    "\n",
    "plt.figure(figsize=(12,5))\n",
    "plt.plot(x, y, x_smooth, y_smooth)\n",
    "plt.title('Error of Range Prediction')\n",
    "plt.xlabel('Comparison Points at each Interval')\n",
    "plt.ylabel('Error (nm)')\n",
    "plt.grid()"
   ]
  },
  {
   "attachments": {},
   "cell_type": "markdown",
   "metadata": {},
   "source": [
    "### Method Comparison, Batch Simulation"
   ]
  },
  {
   "cell_type": "code",
   "execution_count": null,
   "metadata": {},
   "outputs": [],
   "source": [
    "# Values to be stored in inifile\n",
    "batt_cap = 58\n",
    "stored_dist_avg = 2.5\n",
    "stored_time_avg = 0.3\n",
    "n_runs = 0\n",
    "roll_energy = 0\n",
    "roll_distance = 0\n",
    "\n",
    "# Class instances\n",
    "test_inst = testing()\n",
    "range_est = range_est(batt_cap,\n",
    "                      stored_dist_avg,\n",
    "                      stored_time_avg,\n",
    "                      n_runs,\n",
    "                      roll_energy,\n",
    "                      roll_distance)\n",
    "\n",
    "# lists to store accuracy of each run by different methods\n",
    "accuracies1 = []\n",
    "accuracies2 = []\n",
    "accuracies3 = []\n",
    "\n",
    "# Loop through runs\n",
    "for run in runs_dict.keys():\n",
    "    df = test_inst.add_variables(runs_dict[run])\n",
    "\n",
    "    # lists to store range values\n",
    "    range_dist_list = []\n",
    "    range_time_list = []\n",
    "    range_roll_list = []\n",
    "\n",
    "    # Loop through rows of current run data\n",
    "    for i in range(len(df)):\n",
    "        # Simulate dataStream\n",
    "        data = test_inst.parse_csv(df.iloc[i])\n",
    "\n",
    "        # Record range remaining for each method\n",
    "        range_est.overall_avg(data)\n",
    "        range_dist_list.append(range_est.range_remaining)\n",
    "\n",
    "        range_est.overall_time_avg(data)\n",
    "        range_time_list.append(range_est.range_remaining)\n",
    "\n",
    "        range_est.rolling_avg(data)\n",
    "        range_roll_list.append(range_est.range_remaining)\n",
    "\n",
    "    # Update averages once run is complete\n",
    "    range_est.update_avg(data)\n",
    "\n",
    "    # Check and record accuracy\n",
    "    error_dist, errors_dist = test_inst.test_accuracy(df, range_dist_list)\n",
    "    error_time, errors_time = test_inst.test_accuracy(df, range_time_list)\n",
    "    error_roll, errors_roll = test_inst.test_accuracy(df, range_roll_list)\n",
    "\n",
    "    accuracies1.append(error_dist)\n",
    "    accuracies2.append(error_time)\n",
    "    accuracies3.append(error_roll)\n",
    "\n",
    "    print(run, 'Error', error_dist, error_time, error_roll, end=' \\r')\n",
    "\n",
    "# Create dataframe to store error values of each method for each run\n",
    "error_summary = pd.DataFrame({\n",
    "    'Run': runs_dict.keys(),\n",
    "    'Overall Distance Average': accuracies1,\n",
    "    'Overall Time Average': accuracies2,\n",
    "    'Rolling Average': accuracies3\n",
    "})\n"
   ]
  },
  {
   "cell_type": "code",
   "execution_count": null,
   "metadata": {},
   "outputs": [],
   "source": [
    "error_summary"
   ]
  },
  {
   "attachments": {},
   "cell_type": "markdown",
   "metadata": {},
   "source": [
    "### Plot Method Errors"
   ]
  },
  {
   "cell_type": "code",
   "execution_count": null,
   "metadata": {},
   "outputs": [],
   "source": [
    "print('\\n', \n",
    "      'Distance Avg Error:    ', error_summary['Overall Distance Average'].mean(), '\\n', \n",
    "      'Time Avg Error:        ', error_summary['Overall Time Average'].mean(), '\\n',\n",
    "      'Rolling Avg Error:     ', error_summary['Rolling Average'].mean())\n",
    "\n",
    "x = [i + 1 for i in error_summary.index]\n",
    "y1 = error_summary['Overall Distance Average']\n",
    "y2 = error_summary['Overall Time Average']\n",
    "y3 = error_summary['Rolling Average']\n",
    "\n",
    "num = len(error_summary)*10\n",
    "x_smooth = np.linspace(np.min(x), np.max(x), num)\n",
    "bspline1 = interpolate.make_interp_spline(x, y1)\n",
    "bspline2 = interpolate.make_interp_spline(x, y2)\n",
    "bspline3 = interpolate.make_interp_spline(x, y3)\n",
    "y1_smooth = bspline1(x_smooth)\n",
    "y2_smooth = bspline2(x_smooth)\n",
    "y3_smooth = bspline3(x_smooth)\n",
    "\n",
    "plt.figure(figsize=(12,5))\n",
    "plt.xlim(0, np.max(x))\n",
    "plt.plot(x_smooth, y1_smooth,\n",
    "         x_smooth, y2_smooth,\n",
    "         x_smooth, y3_smooth\n",
    "         )\n",
    "plt.grid()\n",
    "plt.legend(error_summary.columns[1:], loc='upper right')\n",
    "plt.suptitle('Accuracy of different methods')\n",
    "plt.xlabel('Run #')\n",
    "plt.ylabel('Error (nm)')"
   ]
  },
  {
   "attachments": {},
   "cell_type": "markdown",
   "metadata": {},
   "source": [
    "## Extra"
   ]
  },
  {
   "cell_type": "code",
   "execution_count": null,
   "metadata": {},
   "outputs": [],
   "source": [
    "# '''Summary Plots'''\n",
    "# plt.figure(figsize=(12,5))\n",
    "\n",
    "# plt.subplot(2,2,1)\n",
    "# plt.plot(df.index, df['SOC 1 %'])\n",
    "# plt.grid()\n",
    "# plt.title('Charge (%) over Time')\n",
    "\n",
    "# plt.subplot(2,2,2)\n",
    "# plt.plot(df.index, df['Speed m/s']) #, df['Power 1 kW'])\n",
    "# plt.grid()\n",
    "# plt.title('Power (kW) and Speed (kts) over Time')\n",
    "\n",
    "# plt.subplot(2,2,3)\n",
    "# plt.plot(df.index, df['Pack Voltage 1 V'], df['Pack Current 1 A'])\n",
    "# plt.grid()\n",
    "# plt.title('Current and Voltage over Time')\n",
    "\n",
    "# # plt.subplot(2,2,4)\n",
    "# # plt.plot(df.index)\n",
    "# # plt.grid()\n",
    "# # plt.title('Empty')\n",
    "\n",
    "# plt.subplots_adjust(hspace = 0.5)\n",
    "# plt.subplots_adjust(wspace = 0.3)\n",
    "\n",
    "# df.head()"
   ]
  }
 ],
 "metadata": {
  "kernelspec": {
   "display_name": "base",
   "language": "python",
   "name": "python3"
  },
  "language_info": {
   "codemirror_mode": {
    "name": "ipython",
    "version": 3
   },
   "file_extension": ".py",
   "mimetype": "text/x-python",
   "name": "python",
   "nbconvert_exporter": "python",
   "pygments_lexer": "ipython3",
   "version": "3.9.12"
  },
  "vscode": {
   "interpreter": {
    "hash": "69627ec5890e0b54de2feb78db75d268619931803e79abb516238e9970b9c367"
   }
  }
 },
 "nbformat": 4,
 "nbformat_minor": 2
}
