{
 "cells": [
  {
   "attachments": {},
   "cell_type": "markdown",
   "metadata": {},
   "source": [
    "# Testing Notebook\n",
    "\n",
    "### Imports and Data Input"
   ]
  },
  {
   "cell_type": "code",
   "execution_count": 23,
   "metadata": {},
   "outputs": [],
   "source": [
    "import matplotlib.pyplot as plt\n",
    "import pandas as pd\n",
    "from scipy import interpolate\n",
    "import time\n",
    "# import data_files"
   ]
  },
  {
   "cell_type": "code",
   "execution_count": null,
   "metadata": {},
   "outputs": [],
   "source": []
  },
  {
   "attachments": {},
   "cell_type": "markdown",
   "metadata": {},
   "source": [
    "### Dashboard of Chosen Run"
   ]
  },
  {
   "cell_type": "code",
   "execution_count": null,
   "metadata": {},
   "outputs": [],
   "source": []
  },
  {
   "attachments": {},
   "cell_type": "markdown",
   "metadata": {},
   "source": [
    "# Testing Class"
   ]
  },
  {
   "cell_type": "code",
   "execution_count": 24,
   "metadata": {},
   "outputs": [],
   "source": [
    "import configparser\n",
    "\n",
    "class testing():\n",
    "\n",
    "    def __init__(self):\n",
    "        self.data = {\n",
    "            'sog': 0,               # Knot, COG SOG Rapid Update\n",
    "            'rpm': 0,               # RPM, Engine Parameters Rapid Update\n",
    "            'date': \"12:34 PM\",     # GNSS Position Data\n",
    "            'time': \"12:34 PM\",     # GNSS Position Data\n",
    "            'cog': 0,               # Deg, COG SOG Rapid Update\n",
    "            'heading': \"N\",         # calculated\n",
    "            'numFaults': 0,         # TODO\n",
    "            'faults': \"\",           # TODO\n",
    "            'power': 0.0,           # kW, calculated\n",
    "            'tripDistance': 0.0,    # miles\n",
    "            'soc': 0,               # %, DC Detailed Status\n",
    "            'energyUsed': 0.0,      # kWh\n",
    "            'battCycles': 0,        # stored locally\n",
    "            'motorTemp': 0,         # degC, Engine Parameters Dynamic\n",
    "            'totalDistance': 0,     # miles\n",
    "            'minsRemaining': 0,     # mins, DC Detailed Status\n",
    "            'tripDuration': 0,      # mins\n",
    "            'motorTorquePct': 0,    # %, Engine Parameters Dynamic\n",
    "            'packVoltage': 0,       # V, DC Voltage Current\n",
    "            'packCurrent': 0.0,     # A, DC Voltage Current\n",
    "            'packTemp': 0,          # degC, Battery Status\n",
    "            'soh': 0,               # %, DC Detailed Status\n",
    "            'totalMotorHours': 0.0, # hours motor rpm > 0\n",
    "            'motorVoltage': 0,      # V, Engine Parameters Dynamic (alternator potential /10)\n",
    "            'gear': \"Unknown\",      # Neutral, Forward, Reverse\n",
    "            'motorEnabled': 0,      # 0: disabled, 1: enabled\n",
    "            'nmea2000_timeout': 0,  # 0: NMEA2000 data received (EV), 1: timeout\n",
    "            'state_sleep': 0,\n",
    "            'state_acc': 0,\n",
    "            'state_ign': 0,\n",
    "            'state_run': 0,\n",
    "            'state_charge': 0\n",
    "            }\n",
    "        \n",
    "    #     self.config = configparser.ConfigParser()\n",
    "    #     self.load_nvm()\n",
    "    #     self.last_distance_algo_update = None\n",
    "    #     self.distance_algo_interval_ms = 5000\n",
    "\n",
    "\n",
    "    # def load_nvm(self):\n",
    "    #     inifile = self.config.read(NAME.lower()+'.nvm')\n",
    "\n",
    "    #     if len(inifile) == 0:\n",
    "    #         self.config[NAME] = {'batt_cycles': '0', 'total_distance': '0.0', 'total_motor_hours': '0.0', 'total_motor_hours3': '0.0'}\n",
    "    #         self.persist_nvm()\n",
    "    #         inifile = self.config.read(NAME.lower()+'.nvm')\n",
    "\n",
    "    #     self.data['battCycles'] = int(self.config[NAME]['batt_cycles'])\n",
    "    #     self.data['totalDistance'] = float(self.config[NAME]['total_distance'])\n",
    "    #     self.data['totalMotorHours'] = float(self.config[NAME]['total_motor_hours'])\n",
    "    #     self.data['totalMotorHours3'] = float(self.config[NAME]['total_motor_hours3'])\n",
    "\n",
    "    # def persist_nvm(self):\n",
    "    #     with open(NAME.lower()+'.nvm', 'w') as configfile:\n",
    "    #         self.config.write(configfile)\n",
    "    #         configfile.close()\n",
    "\n",
    "    # def update_nvm(self):\n",
    "    #     self.config[NAME]['total_distance'] = str(self.data['totalDistance'])\n",
    "    #     self.config[NAME]['total_motor_hours'] = str(self.data['totalMotorHours'])\n",
    "    #     self.config[NAME]['total_motor_hours3'] = str(self.data['totalMotorHours3'])\n",
    "    #     self.config[NAME]['batt_cycles'] = str(self.data['battCycles'])\n",
    "        \n",
    "    #     self.persist_nvm()\n",
    "\n",
    "    # def run_distance_algo(self):\n",
    "    #     # Run the distance remain algo here\n",
    "    #     print(self.data)\n",
    "\n",
    "\n",
    "\n",
    "    def add_variables(self, df):\n",
    "        \"\"\"Add calculated variables to testing DataFrame which show up in NMEA Server but aren't in CSV files\"\"\"\n",
    "        \n",
    "        df['Time'] = pd.to_datetime(df['Time'], format=\"%H:%M:%S\")\n",
    "        df['Distance nm'] = df['Distance km']*0.539957\n",
    "        df['tripDistance'] = ''\n",
    "        df['tripDuration'] = ''\n",
    "        df['energyUsed'] = ''\n",
    "        df['energyAvailable'] = ''\n",
    "\n",
    "        for i in range(len(df)):\n",
    "            df['tripDistance'].iloc[i] = (df['Distance km'].iloc[i] - df['Distance km'].iloc[0])*.539957    # nautical miles\n",
    "            df['tripDuration'].iloc[i] = (df['Time'].iloc[i] - df['Time'].iloc[0]).seconds/60               # min\n",
    "            df['energyUsed'].iloc[i] = (df['SOC 1 %'].iloc[0] - df['SOC 1 %'].iloc[i])*58/100               # kWh\n",
    "            df['energyAvailable'].iloc[i] = df['SOC 1 %'].iloc[i]*58/100                                    # kWh\n",
    "        return df\n",
    "\n",
    "\n",
    "    def parse_csv(self, df):\n",
    "        \"\"\"Interpret DataFrame values as data class values to replicate NMEA Server\"\"\"\n",
    "\n",
    "        self.data['sog'] = df['Speed m/s']*1.94384          # knots\n",
    "        self.data['time'] = df['Time']\n",
    "        self.data['totalDistance'] = df['Distance km']*0.539957\n",
    "        self.data['soc'] = df['SOC 1 %']\n",
    "        self.data['packVoltage'] = df['Pack Voltage 1 V']*10\n",
    "        self.data['packCurrent'] = df['Pack Current 1 A']\n",
    "\n",
    "        '''Missing Variables'''\n",
    "        self.data['tripDistance'] = df['tripDistance']      # manually added in test loop\n",
    "        self.data['energyUsed'] = df['energyUsed']          # manually added in test loop\n",
    "        self.data['energyAvailable'] = df['energyAvailable']          # manually added in test loop\n",
    "        self.data['tripDuration'] = df['tripDuration']      # manually added in test loop\n",
    "\n",
    "        '''Calculated Columns'''\n",
    "        self.data['power'] = self.data['packVoltage'] * self.data['packCurrent'] / 1000.0   # kW    \n",
    "\n",
    "        return self.data"
   ]
  },
  {
   "attachments": {},
   "cell_type": "markdown",
   "metadata": {},
   "source": [
    "### Define Algorithms"
   ]
  },
  {
   "cell_type": "code",
   "execution_count": 25,
   "metadata": {},
   "outputs": [],
   "source": [
    "class range_est():\n",
    "\n",
    "    def __init__(self, battery_capacity):\n",
    "        self.max_battery = battery_capacity                         # kWh    \n",
    "\n",
    "\n",
    "    def overall_dist_avg(self, data, cached_avg):\n",
    "        \"\"\"This function evaluates range remaining on the battery given historical distance consumption data (kWh/nm) from all past trips.\"\"\"\n",
    "        range_remaining = data['energyAvailable']/cached_avg        # nautical miles\n",
    "\n",
    "        return range_remaining\n",
    "\n",
    "\n",
    "    def overall_time_avg(self, data, cached_avg):\n",
    "        \"\"\"This function evaluates range remaining on the battery given historical time consumption data (kWh/min) from all past trips.\"\"\"\n",
    "        time_remaining = data['energyAvailable']/cached_avg         # min \n",
    "        range_remaining = (time_remaining/60)*data['sog']           # nm\n",
    "\n",
    "        return time_remaining, range_remaining\n",
    "\n",
    "\n",
    "    def rolling_avg(self, cached_avg, N_minutes):\n",
    "        \"\"\"This function updates the range based on the trip duration. \n",
    "        Range will be calculated based on cached_avg (cached average energy consumption) for the first N minutes of the trip.\n",
    "        After N minutes, range will be calculated with the average consumption for the given trip.\"\"\"\n",
    "\n",
    "        # Need a way to update rolling average every N minutes\n",
    "        roll_consumption = self.data['energyUsed']/self.data['tripDistance']        # kWh/nm\n",
    "\n",
    "        if self.data['tripDuration'] < N_minutes or roll_consumption==0:\n",
    "            range_remaining = self.data['energyAvailable']/cached_avg\n",
    "        else:\n",
    "            # Insert a weighting function here (logarithmic?)\n",
    "            range_remaining = self.data['energyAvailable']/roll_consumption         # nm\n",
    "\n",
    "        return range_remaining, roll_consumption\n",
    "    \n",
    "\n",
    "    def update_avg(self, data, cached_avg, nRuns):\n",
    "        \"\"\"This function should be called whenever a trip is completed, updating the cached average.\n",
    "        It stores the average consumption rate as well as the number of runs it is averaged over.\"\"\"\n",
    "        trip_avg = data['energyUsed']/data['tripDistance']                          # kWh/nm\n",
    "        new_avg = (nRuns*cached_avg + trip_avg)/(nRuns+1)\n",
    "        cached_avg = new_avg\n",
    "        nRuns += 1\n",
    "\n",
    "        return cached_avg, nRuns\n"
   ]
  },
  {
   "attachments": {},
   "cell_type": "markdown",
   "metadata": {},
   "source": [
    "# Testing"
   ]
  },
  {
   "cell_type": "code",
   "execution_count": 26,
   "metadata": {},
   "outputs": [],
   "source": [
    "\"\"\"Import Data from file manager\"\"\"\n",
    "# data = data_files.runs_dict\n",
    "# run = 31\n",
    "# df = data['Run %i' % run]\n",
    "\n",
    "\"\"\"Alternately, direct import from csv file\"\"\"\n",
    "file_path, rows_to_read = 'data/L230414.CSV', range(300, 3300)\n",
    "df = pd.read_csv(file_path, skiprows=range(1,rows_to_read[0]), nrows=len(rows_to_read))"
   ]
  },
  {
   "cell_type": "code",
   "execution_count": 27,
   "metadata": {},
   "outputs": [],
   "source": [
    "# '''Summary Plots'''\n",
    "# plt.figure(figsize=(12,5))\n",
    "\n",
    "# plt.subplot(2,2,1)\n",
    "# plt.plot(df.index, df['SOC 1 %'])\n",
    "# plt.grid()\n",
    "# plt.title('Charge (%) over Time')\n",
    "\n",
    "# plt.subplot(2,2,2)\n",
    "# plt.plot(df.index, df['Speed m/s']) #, df['Power 1 kW'])\n",
    "# plt.grid()\n",
    "# plt.title('Power (kW) and Speed (kts) over Time')\n",
    "\n",
    "# plt.subplot(2,2,3)\n",
    "# plt.plot(df.index, df['Pack Voltage 1 V'], df['Pack Current 1 A'])\n",
    "# plt.grid()\n",
    "# plt.title('Current and Voltage over Time')\n",
    "\n",
    "# # plt.subplot(2,2,4)\n",
    "# # plt.plot(df.index)\n",
    "# # plt.grid()\n",
    "# # plt.title('Empty')\n",
    "\n",
    "# plt.subplots_adjust(hspace = 0.5)\n",
    "# plt.subplots_adjust(wspace = 0.3)\n",
    "\n",
    "# df.head()"
   ]
  },
  {
   "cell_type": "code",
   "execution_count": 28,
   "metadata": {},
   "outputs": [
    {
     "name": "stderr",
     "output_type": "stream",
     "text": [
      "/tmp/ipykernel_346/4033712971.py:90: SettingWithCopyWarning: \n",
      "A value is trying to be set on a copy of a slice from a DataFrame\n",
      "\n",
      "See the caveats in the documentation: https://pandas.pydata.org/pandas-docs/stable/user_guide/indexing.html#returning-a-view-versus-a-copy\n",
      "  df['tripDistance'].iloc[i] = (df['Distance km'].iloc[i] - df['Distance km'].iloc[0])*.539957    # nautical miles\n",
      "/tmp/ipykernel_346/4033712971.py:91: SettingWithCopyWarning: \n",
      "A value is trying to be set on a copy of a slice from a DataFrame\n",
      "\n",
      "See the caveats in the documentation: https://pandas.pydata.org/pandas-docs/stable/user_guide/indexing.html#returning-a-view-versus-a-copy\n",
      "  df['tripDuration'].iloc[i] = (df['Time'].iloc[i] - df['Time'].iloc[0]).seconds/60               # min\n",
      "/tmp/ipykernel_346/4033712971.py:92: SettingWithCopyWarning: \n",
      "A value is trying to be set on a copy of a slice from a DataFrame\n",
      "\n",
      "See the caveats in the documentation: https://pandas.pydata.org/pandas-docs/stable/user_guide/indexing.html#returning-a-view-versus-a-copy\n",
      "  df['energyUsed'].iloc[i] = (df['SOC 1 %'].iloc[0] - df['SOC 1 %'].iloc[i])*58/100               # kWh\n",
      "/tmp/ipykernel_346/4033712971.py:93: SettingWithCopyWarning: \n",
      "A value is trying to be set on a copy of a slice from a DataFrame\n",
      "\n",
      "See the caveats in the documentation: https://pandas.pydata.org/pandas-docs/stable/user_guide/indexing.html#returning-a-view-versus-a-copy\n",
      "  df['energyAvailable'].iloc[i] = df['SOC 1 %'].iloc[i]*58/100                                    # kWh\n"
     ]
    },
    {
     "name": "stdout",
     "output_type": "stream",
     "text": [
      "Battery Remaining = 21.0 percent | Range Remaining = 2.7 nm \r"
     ]
    }
   ],
   "source": [
    "'''Add missing variables to DataFrame'''\n",
    "range_estimator = range_est(58)\n",
    "df = testing().add_variables(df)\n",
    "cached_avg = 4.5\n",
    "\n",
    "dist_list = []\n",
    "\"\"\"Test Loop\"\"\"\n",
    "for i in range(len(df)):\n",
    "    dataStream = testing().parse_csv(df.iloc[i])\n",
    "    range_remaining = range_estimator.overall_dist_avg(dataStream, cached_avg)\n",
    "    print('Battery Remaining = %.1f percent | Range Remaining = %.1f nm' % (dataStream['soc'], range_remaining), end=' \\r')\n",
    "    time.sleep(.001)\n",
    "\n",
    "    dist_list.append(range_remaining)"
   ]
  },
  {
   "attachments": {},
   "cell_type": "markdown",
   "metadata": {},
   "source": [
    "# Accuracy Comparison"
   ]
  },
  {
   "cell_type": "code",
   "execution_count": 38,
   "metadata": {},
   "outputs": [
    {
     "name": "stdout",
     "output_type": "stream",
     "text": [
      "500 Predicted: 5.03 | Actual: 4.76\n",
      "1000 Predicted: 3.74 | Actual: 3.86\n",
      "1500 Predicted: 2.58 | Actual: 3.03\n",
      "2000 Predicted: 1.68 | Actual: 2.07\n",
      "2500 Predicted: 0.26 | Actual: 0.76\n"
     ]
    }
   ],
   "source": [
    "'''Look at how far the vessel traveled 30s later'''\n",
    "\n",
    "df['Dist Prediction (nm)'] = dist_list\n",
    "\n",
    "N = range(500, len(df), 500)\n",
    "for n in N:\n",
    "    pred = df['Dist Prediction (nm)'].iloc[n] - df['Dist Prediction (nm)'].iloc[-1]     # predicted distance remaining at n minus prediction at the end\n",
    "    dist = df['Distance nm'].iloc[-1] - df['Distance nm'].iloc[n]                       # actual distance traveled since n\n",
    "    print(n, 'Predicted:', round(pred, 2), '| Actual:', round(dist, 2))\n"
   ]
  }
 ],
 "metadata": {
  "kernelspec": {
   "display_name": "base",
   "language": "python",
   "name": "python3"
  },
  "language_info": {
   "codemirror_mode": {
    "name": "ipython",
    "version": 3
   },
   "file_extension": ".py",
   "mimetype": "text/x-python",
   "name": "python",
   "nbconvert_exporter": "python",
   "pygments_lexer": "ipython3",
   "version": "3.9.12"
  },
  "vscode": {
   "interpreter": {
    "hash": "69627ec5890e0b54de2feb78db75d268619931803e79abb516238e9970b9c367"
   }
  }
 },
 "nbformat": 4,
 "nbformat_minor": 2
}
