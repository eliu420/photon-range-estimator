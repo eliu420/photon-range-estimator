{
 "cells": [
  {
   "cell_type": "code",
   "execution_count": 13,
   "metadata": {},
   "outputs": [],
   "source": [
    "\"\"\"The purpose of this document is to quickly analyze the main datapoints of a new test run csv file.\"\"\"\n",
    "\n",
    "import matplotlib.pyplot as plt\n",
    "import pandas as pd\n",
    "import numpy as np\n",
    "\n",
    "# file = \"data/L230216.CSV\"\n",
    "# file = \"data/L230217.CSV\"\n",
    "# file = \"data/L230303.CSV\"\n",
    "file = \"data/L230331_1.csv\"\n",
    "\n",
    "df_raw = pd.read_csv(file)"
   ]
  },
  {
   "cell_type": "code",
   "execution_count": 14,
   "metadata": {},
   "outputs": [],
   "source": [
    "col = ['Date', 'Time', 'Lat', 'Lon', 'Speed m/s', 'Distance km',\n",
    "        'RPM 1', 'Motor Load 1 %', 'Motor Torque 1 %', 'Motor Temp 1 C',\n",
    "        'Pack Current 1 A', 'Pack Voltage 1 V', 'Pack Temp 1 C', 'SOC 1 %']\n",
    "\n",
    "df = df_raw[col]"
   ]
  },
  {
   "cell_type": "code",
   "execution_count": 15,
   "metadata": {},
   "outputs": [
    {
     "name": "stderr",
     "output_type": "stream",
     "text": [
      "/tmp/ipykernel_5476/3709213404.py:2: SettingWithCopyWarning: \n",
      "A value is trying to be set on a copy of a slice from a DataFrame\n",
      "\n",
      "See the caveats in the documentation: https://pandas.pydata.org/pandas-docs/stable/user_guide/indexing.html#returning-a-view-versus-a-copy\n",
      "  df.drop(header_ind, inplace=True)       # Drop headers\n",
      "/tmp/ipykernel_5476/3709213404.py:5: SettingWithCopyWarning: \n",
      "A value is trying to be set on a copy of a slice from a DataFrame.\n",
      "Try using .loc[row_indexer,col_indexer] = value instead\n",
      "\n",
      "See the caveats in the documentation: https://pandas.pydata.org/pandas-docs/stable/user_guide/indexing.html#returning-a-view-versus-a-copy\n",
      "  df[col] = pd.to_numeric(df[col])    # Change all but date/times to numeric\n"
     ]
    }
   ],
   "source": [
    "header_ind = df[df['Lat']=='Lat'].index.tolist()\n",
    "df.drop(header_ind, inplace=True)       # Drop headers\n",
    "\n",
    "for col in df.columns[2:]:\n",
    "    df[col] = pd.to_numeric(df[col])    # Change all but date/times to numeric\n",
    "\n",
    "# plt.plot(df.index, df['SOC 1 %'])"
   ]
  },
  {
   "cell_type": "code",
   "execution_count": 16,
   "metadata": {},
   "outputs": [
    {
     "name": "stderr",
     "output_type": "stream",
     "text": [
      "/tmp/ipykernel_5476/564418397.py:4: SettingWithCopyWarning: \n",
      "A value is trying to be set on a copy of a slice from a DataFrame\n",
      "\n",
      "See the caveats in the documentation: https://pandas.pydata.org/pandas-docs/stable/user_guide/indexing.html#returning-a-view-versus-a-copy\n",
      "  df.drop(bogus_battery, inplace=True)         # Drop rows with bogus battery values\n"
     ]
    }
   ],
   "source": [
    "high_charge = df[df['SOC 1 %']>100].index.tolist()\n",
    "low_charge = df[df['SOC 1 %']<3].index.tolist()\n",
    "bogus_battery = high_charge+low_charge\n",
    "df.drop(bogus_battery, inplace=True)         # Drop rows with bogus battery values\n",
    "\n",
    "# plt.plot(df.index, df['SOC 1 %'])"
   ]
  },
  {
   "cell_type": "code",
   "execution_count": 17,
   "metadata": {},
   "outputs": [
    {
     "name": "stderr",
     "output_type": "stream",
     "text": [
      "/tmp/ipykernel_5476/4151220147.py:3: SettingWithCopyWarning: \n",
      "A value is trying to be set on a copy of a slice from a DataFrame.\n",
      "Try using .loc[row_indexer,col_indexer] = value instead\n",
      "\n",
      "See the caveats in the documentation: https://pandas.pydata.org/pandas-docs/stable/user_guide/indexing.html#returning-a-view-versus-a-copy\n",
      "  df['Time'] = pd.to_datetime(df['Time'], format=tFMT)\n",
      "/tmp/ipykernel_5476/4151220147.py:9: SettingWithCopyWarning: \n",
      "A value is trying to be set on a copy of a slice from a DataFrame.\n",
      "Try using .loc[row_indexer,col_indexer] = value instead\n",
      "\n",
      "See the caveats in the documentation: https://pandas.pydata.org/pandas-docs/stable/user_guide/indexing.html#returning-a-view-versus-a-copy\n",
      "  df['Time_Diff'] = s_ind\n",
      "/tmp/ipykernel_5476/4151220147.py:15: SettingWithCopyWarning: \n",
      "A value is trying to be set on a copy of a slice from a DataFrame.\n",
      "Try using .loc[row_indexer,col_indexer] = value instead\n",
      "\n",
      "See the caveats in the documentation: https://pandas.pydata.org/pandas-docs/stable/user_guide/indexing.html#returning-a-view-versus-a-copy\n",
      "  df['Slopes'] = slopes\n"
     ]
    }
   ],
   "source": [
    "'''Check time is 1 second apart'''\n",
    "tFMT = \"%H:%M:%S\"\n",
    "df['Time'] = pd.to_datetime(df['Time'], format=tFMT)\n",
    "\n",
    "s_ind = [1]\n",
    "for i in range(1, len(df)):\n",
    "    time_diff = df['Time'].iloc[i] - df['Time'].iloc[i-1]\n",
    "    s_ind.append(time_diff.seconds)\n",
    "df['Time_Diff'] = s_ind\n",
    "\n",
    "slopes = [0]\n",
    "for i in range(1, len(df)):\n",
    "    slope = df['SOC 1 %'].iloc[i] - df['SOC 1 %'].iloc[i-1]\n",
    "    slopes.append(slope)\n",
    "df['Slopes'] = slopes"
   ]
  },
  {
   "cell_type": "code",
   "execution_count": 18,
   "metadata": {},
   "outputs": [],
   "source": [
    "runs_dict = {}\n",
    "list = []\n",
    "cnt = 0\n",
    "start = 0\n",
    "for i in range(start, len(df)):\n",
    "    \n",
    "    if df['Time_Diff'].iloc[i]==1:\n",
    "        list.append(i)\n",
    "    elif df['Time_Diff'].iloc[i]>2:\n",
    "        if len(list)>120:\n",
    "            # print(list) \n",
    "            cnt+=1\n",
    "            run = 'Run %d' % (cnt)\n",
    "            runs_dict[run] = df.iloc[list]\n",
    "        list = [i]\n",
    "        start = i"
   ]
  },
  {
   "cell_type": "code",
   "execution_count": 19,
   "metadata": {},
   "outputs": [
    {
     "data": {
      "image/png": "[encoded data removed]",
      "text/plain": [
       "<Figure size 640x480 with 1 Axes>"
      ]
     },
     "metadata": {},
     "output_type": "display_data"
    }
   ],
   "source": [
    "for run in runs_dict:\n",
    "    plt.plot(runs_dict[run].index, runs_dict[run]['SOC 1 %'])\n",
    "    # print(run, 'len:', len(runs_dict[run]))"
   ]
  },
  {
   "cell_type": "code",
   "execution_count": null,
   "metadata": {},
   "outputs": [],
   "source": []
  }
 ],
 "metadata": {
  "kernelspec": {
   "display_name": "base",
   "language": "python",
   "name": "python3"
  },
  "language_info": {
   "codemirror_mode": {
    "name": "ipython",
    "version": 3
   },
   "file_extension": ".py",
   "mimetype": "text/x-python",
   "name": "python",
   "nbconvert_exporter": "python",
   "pygments_lexer": "ipython3",
   "version": "3.9.12"
  },
  "orig_nbformat": 4,
  "vscode": {
   "interpreter": {
    "hash": "69627ec5890e0b54de2feb78db75d268619931803e79abb516238e9970b9c367"
   }
  }
 },
 "nbformat": 4,
 "nbformat_minor": 2
}
